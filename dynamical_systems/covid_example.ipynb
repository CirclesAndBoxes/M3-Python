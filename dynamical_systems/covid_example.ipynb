{
 "cells": [
  {
   "cell_type": "markdown",
   "metadata": {},
   "source": [
    "Consider the following problem:\n",
    "\n",
    "- Data: US COVID Cases data\n",
    "- Goal: Given the initial values of COVID, find an SIR model that models future cases pretty well.\n",
    "- Idea: use dynamical systems and optimize coefficients.\n"
   ]
  },
  {
   "cell_type": "markdown",
   "metadata": {},
   "source": [
    "### Info:\n",
    "\n",
    "* Goal is to look for beta and gamma values that optimize the data"
   ]
  },
  {
   "cell_type": "code",
   "execution_count": null,
   "metadata": {},
   "outputs": [],
   "source": [
    "# ChatGPT Code:\n",
    "import numpy as np\n",
    "import matplotlib.pyplot as plt\n",
    "from scipy.integrate import odeint\n",
    "\n",
    "def sir_model(y, t, beta, gamma):\n",
    "    S, I, R = y\n",
    "    dSdt = -beta * S * I\n",
    "    dIdt = beta * S * I - gamma * I\n",
    "    dRdt = gamma * I\n",
    "    return [dSdt, dIdt, dRdt]\n",
    "\n",
    "# Initial conditions\n",
    "N = 1000  # Total population\n",
    "I0 = 1     # Initial number of infected individuals\n",
    "S0 = N - I0  # Initial number of susceptible individuals\n",
    "R0 = 0     # Initial number of recovered individuals\n",
    "\n",
    "beta = 0.3  # Infection rate\n",
    "gamma = 0.1 # Recovery rate\n",
    "\n",
    "# Time grid (in days)\n",
    "t = np.linspace(0, 160, 160)\n",
    "\n",
    "# Solve the differential equations\n",
    "solution = odeint(sir_model, [S0/N, I0/N, R0/N], t, args=(beta, gamma))\n",
    "S, I, R = solution.T\n",
    "\n",
    "# Plot the results\n",
    "plt.figure(figsize=(10, 6))\n",
    "plt.plot(t, S, label='Susceptible', color='blue')\n",
    "plt.plot(t, I, label='Infected', color='red')\n",
    "plt.plot(t, R, label='Recovered', color='green')\n",
    "plt.xlabel('Days')\n",
    "plt.ylabel('Fraction of Population')\n",
    "plt.title('SIR Model of Disease Spread')\n",
    "plt.legend()\n",
    "plt.grid()\n",
    "plt.show()\n"
   ]
  }
 ],
 "metadata": {
  "language_info": {
   "name": "python"
  }
 },
 "nbformat": 4,
 "nbformat_minor": 2
}
