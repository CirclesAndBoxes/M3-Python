{
 "cells": [
  {
   "cell_type": "markdown",
   "metadata": {},
   "source": [
    "Consider the following problem:\n",
    "\n",
    "- Data: US COVID Cases data\n",
    "- Goal: Given the initial values of COVID, find an SIR model that models future cases pretty well.\n",
    "- Idea: use dynamical systems and optimize coefficients.\n"
   ]
  },
  {
   "cell_type": "markdown",
   "metadata": {},
   "source": [
    "### Info:\n",
    "\n",
    "- Goal is to look for beta and gamma values that optimize the data\n"
   ]
  },
  {
   "cell_type": "code",
   "execution_count": 3,
   "metadata": {},
   "outputs": [],
   "source": [
    "# Read the data:\n",
    "import pandas as pd\n",
    "import numpy as np\n",
    "\n",
    "df = pd.read_csv(\"cleaning_csv/cleaned_output.csv\")\n",
    "\n",
    "x = df[\"date\"].values\n",
    "y_data = df[\"hospital_onset_covid\"].values\n",
    "\n",
    "t_data = np.linspace(1, len(x), num=len(x))"
   ]
  },
  {
   "cell_type": "markdown",
   "metadata": {},
   "source": [
    "Ok, so we have:\n",
    "\n",
    "- $dS/dt = -beta * S * I$\n",
    "- $dI/dt = beta * S * I - gamma * I$\n",
    "- $dR/dt = gamma * I$\n",
    "\n",
    "and we have data for dS/dt, so we want to optimize it.\n"
   ]
  },
  {
   "cell_type": "code",
   "execution_count": 13,
   "metadata": {},
   "outputs": [
    {
     "name": "stdout",
     "output_type": "stream",
     "text": [
      "a = -1.2\n",
      "b = 0.1\n"
     ]
    },
    {
     "name": "stderr",
     "output_type": "stream",
     "text": [
      "C:\\Users\\lin3232\\AppData\\Local\\Temp\\ipykernel_1996\\843809555.py:38: OptimizeWarning: Covariance of the parameters could not be estimated\n",
      "  popt, cov = curve_fit(infected, t_data, y_data, [-1.2, 0.1, 1000,1,1])\n"
     ]
    }
   ],
   "source": [
    "#import numpy as np\n",
    "from scipy.integrate import odeint\n",
    "import matplotlib.pyplot as plt\n",
    "from scipy.optimize import curve_fit\n",
    "\n",
    "# Step 1: create a function that returns our derivatives\n",
    "# When you have multiple functions (x, y) to solve for, define z = [x, y]\n",
    "# Solving for z(t). However, we are looking for beta and gamma (see above)\n",
    "def model(z, t, beta, gamma):\n",
    "    # z = [S, I, R]\n",
    "    dSdt = - beta * z[0] * z[1]\n",
    "    dIdt = beta * z[0] * z[1] - gamma * z[1]\n",
    "    dRdt = gamma * z[1]\n",
    "    \n",
    "    # Return the derivatives:\n",
    "    dzdt = [dSdt, dIdt, dRdt]\n",
    "    return dzdt\n",
    "\n",
    "\n",
    "# The function z in terms of beta and gamma\n",
    "# Adding in some initial value\n",
    "def z(t, beta, gamma, z0):\n",
    "    # Solution (z) to  z'(t) = model(t,y,beta, gamma) \n",
    "    #   with initial condition z(0) = y0\n",
    "    z_info = odeint(model, z0, t, args=(beta, gamma))\n",
    "\n",
    "    # Note that args tells us what we can plug in:\n",
    "    return z_info.ravel()\n",
    "    # I have no idea what .ravel() does\n",
    "\n",
    "# Function to get the infected portion of the population of z\n",
    "def infected(t, beta, gamma, z0_0, z0_1, z0_2):\n",
    "    # Setting a value for z0 to see if that fixes stuff\n",
    "\n",
    "    temp = z(t, beta, gamma, [z0_0, z0_1, z0_2])\n",
    "    return temp[1]\n",
    "\n",
    "# This is just a check to see if I can solve this. This is not correct but still\n",
    "popt, cov = curve_fit(infected, t_data, y_data, [-1.2, 0.1, 1000,1,1])\n",
    "\n",
    "beta_opt, gamma_opt, z0_0_opt, z0_1_opt, z0_2_opt = popt\n",
    "\n",
    "print(\"a = %g\" % beta_opt)\n",
    "print(\"b = %g\" % gamma_opt)\n",
    "#print(\"y0 = %g\" % y0_opt)\n"
   ]
  },
  {
   "cell_type": "code",
   "execution_count": null,
   "metadata": {},
   "outputs": [],
   "source": [
    "# ChatGPT Code:\n",
    "import numpy as np\n",
    "import matplotlib.pyplot as plt\n",
    "from scipy.integrate import odeint\n",
    "\n",
    "def sir_model(y, t, beta, gamma):\n",
    "    S, I, R = y\n",
    "    dSdt = -beta * S * I\n",
    "    dIdt = beta * S * I - gamma * I\n",
    "    dRdt = gamma * I\n",
    "    return [dSdt, dIdt, dRdt]\n",
    "\n",
    "# Initial conditions\n",
    "N = 1000  # Total population\n",
    "I0 = 1     # Initial number of infected individuals\n",
    "S0 = N - I0  # Initial number of susceptible individuals\n",
    "R0 = 0     # Initial number of recovered individuals\n",
    "\n",
    "beta = 0.3  # Infection rate\n",
    "gamma = 0.1 # Recovery rate\n",
    "\n",
    "# Time grid (in days)\n",
    "t = np.linspace(0, 160, 160)\n",
    "\n",
    "# Solve the differential equations\n",
    "solution = odeint(sir_model, [S0/N, I0/N, R0/N], t, args=(beta, gamma))\n",
    "S, I, R = solution.T\n",
    "\n",
    "# Plot the results\n",
    "plt.figure(figsize=(10, 6))\n",
    "plt.plot(t, S, label='Susceptible', color='blue')\n",
    "plt.plot(t, I, label='Infected', color='red')\n",
    "plt.plot(t, R, label='Recovered', color='green')\n",
    "plt.xlabel('Days')\n",
    "plt.ylabel('Fraction of Population')\n",
    "plt.title('SIR Model of Disease Spread')\n",
    "plt.legend()\n",
    "plt.grid()\n",
    "plt.show()\n"
   ]
  }
 ],
 "metadata": {
  "kernelspec": {
   "display_name": "Python 3",
   "language": "python",
   "name": "python3"
  },
  "language_info": {
   "codemirror_mode": {
    "name": "ipython",
    "version": 3
   },
   "file_extension": ".py",
   "mimetype": "text/x-python",
   "name": "python",
   "nbconvert_exporter": "python",
   "pygments_lexer": "ipython3",
   "version": "3.11.11"
  }
 },
 "nbformat": 4,
 "nbformat_minor": 2
}
