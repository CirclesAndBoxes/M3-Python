{
 "cells": [
  {
   "cell_type": "code",
   "execution_count": 1,
   "metadata": {},
   "outputs": [],
   "source": [
    "import numpy as np\n",
    "import numpy.linalg as la\n",
    "import scipy.linalg as sla\n",
    "import matplotlib.pyplot as plt"
   ]
  },
  {
   "cell_type": "code",
   "execution_count": null,
   "metadata": {},
   "outputs": [],
   "source": [
    "pts = np.array([[2, 4], [3, 2], [5, 1], [6, 0]])\n",
    "# Reformat looks like:\n",
    "# [[2, 4], \n",
    "#  [3, 2], \n",
    "#  [5, 1], \n",
    "#  [6, 0]]\n",
    "\n",
    "t_vector = pts[:,0]\n",
    "y_vector = pts[:,1]\n",
    "# y being value.\n",
    "# Note that we are solving for:\n",
    "# y = A x\n",
    "# \n",
    "# So given M is max, A is constant, k is constant:\n",
    "# y = M / (1 + A e^(-k t))\n",
    "# OR\n",
    "# y = M / (1 + A e^(-k(x - x0)))\n",
    "# Where t0 is infliction point (time where halfway point is at.)\n",
    "# OR\n",
    "# y'(t) = k y (M - y)\n",
    "# (This is a dynamical system)\n",
    "\n",
    "# Ended up having 1s second\n",
    "A_line_transpose = np.array([t_vector , t_line** 0])\n",
    "A_line = A_line_transpose.T\n",
    "\n",
    "# A.T y = A.T A x\n",
    "# for best solution of x\n",
    "# x = (A.T A)^-1 @ (A.T y)"
   ]
  }
 ],
 "metadata": {
  "kernelspec": {
   "display_name": "Python 3",
   "language": "python",
   "name": "python3"
  },
  "language_info": {
   "codemirror_mode": {
    "name": "ipython",
    "version": 3
   },
   "file_extension": ".py",
   "mimetype": "text/x-python",
   "name": "python",
   "nbconvert_exporter": "python",
   "pygments_lexer": "ipython3",
   "version": "3.11.11"
  }
 },
 "nbformat": 4,
 "nbformat_minor": 2
}
