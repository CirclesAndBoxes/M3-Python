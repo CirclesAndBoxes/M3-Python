{
 "cells": [
  {
   "cell_type": "markdown",
   "metadata": {},
   "source": [
    "Note: if you want to see a way to surf pages, take a look at PrairieLearn\n",
    "\n",
    "Leaving the question and the code below:\n"
   ]
  },
  {
   "attachments": {
    "image.png": {
     "image/png": "[encoded data removed]"
    }
   },
   "cell_type": "markdown",
   "metadata": {},
   "source": [
    "Google's dominance as a search engine came from their PageRank algorithm, named after co-founder Larry Page. By assigning each page a relative rank, web searches can give more relevant results.\n",
    "\n",
    "You are given an adjacency matrix A with the website connectivity data (the image above illustrates the idea of webpage linkage, not A). Your first task is to convert the matrix A into a Markov matrix M. Recall that the columns of a Markov matrix must add up to\n",
    ", and that if a website does not have any outgoing links we can model it as randomly going to any other page with a probability of\n",
    "(where\n",
    "is the total number of websites included in A ).\n",
    "\n",
    "In the original draft paper of the PageRank algorithm, Page and Brin figured that a web surfer may become \"bored\" of clicking through links and directly go to some random page by typing it into their browser URL bar (and hence a probability of\n",
    "of going to any other page).\n",
    "\n",
    "To model this \"bored\" user behavior, they proposed the following: a random surfer will move from one website to another following the outgoing links with a probability 1/N\n",
    ", however, this random surfer will go to a random page with probability\n",
    ". The probability\n",
    "that the surfer will continue clicking on links is called a damping factor. Studies have tested different damping factors, but it is generally assumed that\n",
    "will be set around 0.85. This new model is represented by the Google matrix G, given as:\n",
    "![image.png](attachment:image.png)\n",
    "𝟙\n",
    "where\n",
    "𝟙\n",
    "is a matrix with the same shape as M filled with \"ones\". In your code snippet, define the Google matrix G using the above definition and\n",
    ".\n",
    "\n",
    "After you define the matrix G, use the provided function power_iteration to get the steady-state eigenvector x of the Google matrix (you do not need to implement your own power iteration method). This is the same function that you created during the computational lab, and has the following signature:\n",
    "\n",
    "def power_iteration(M, x0):\n",
    "M: (N,N) matrix\n",
    "x0: normalized initial guess\n",
    "the code computes the steady-state as x\n",
    "return x\n",
    "You are given labels which contains a list with the website names. Use this list and the steady-state solution to find the name of the website that has the largest Page ranking. Save this highest ranked website as top. You might find numpy.argmax() helpful.\n",
    "\n",
    "The setup code gives the following variables:\n",
    "\n",
    "Name Type Description\n",
    "power_iteration function Helper function that performs power iteration\n",
    "A 2d numpy array Adjacency matrix containing which websites are connected to each other\n",
    "labels list Names of each website such that the\n",
    "'th label matches the\n",
    "'th row/column in the adjacency matrix\n",
    "N integer Number of websites\n",
    "Your code snippet should define the following variables:\n",
    "\n",
    "Name Type Description\n",
    "M 2d numpy array Markov matrix\n",
    "G 2d numpy array Google matrix\n",
    "x 1d numpy array Eigenvector of the Google matrix that corresponds to the largest magnitude eigenvalue\n",
    "top string Top ranked website\n"
   ]
  },
  {
   "cell_type": "markdown",
   "metadata": {},
   "source": [
    "### Page Link:\n",
    "\n",
    "https://us.prairielearn.com/pl/course_instance/159904/instance_question/459927575/\n"
   ]
  },
  {
   "cell_type": "code",
   "execution_count": null,
   "metadata": {},
   "outputs": [],
   "source": [
    "import numpy as np\n",
    "import numpy.linalg as la\n",
    "\n",
    "M = A.copy()\n",
    "\n",
    "\n",
    "for i in range(len(A)):\n",
    "    csum = A[:,i].sum()\n",
    "    \n",
    "    if csum == 0:\n",
    "        M[:,i] = np.ones(len(A)) / len(A)\n",
    "    else:\n",
    "        M[:,i] = A[:,i] / csum\n",
    "\n",
    "G = M * 0.85 + (1 - 0.85) * np.ones(A.shape) / len(A)\n",
    "\n",
    "x = power_iteration(G, np.ones(len(A)) / len(A))\n",
    "topIndex = np.argmax(x)\n",
    "top = labels[topIndex]"
   ]
  },
  {
   "cell_type": "markdown",
   "metadata": {},
   "source": [
    "Basic Markov Chains:\n"
   ]
  },
  {
   "cell_type": "code",
   "execution_count": null,
   "metadata": {},
   "outputs": [],
   "source": [
    "\n",
    "import numpy as np\n",
    "import numpy.linalg as la\n",
    "\n",
    "markov_matrix = np.array([[.8, .1, .05, .1],\n",
    "                          [.05, .4, .05, .1],\n",
    "                          [.05, .1, .7, .15],\n",
    "                          [.1, .4, .2, .65]])\n",
    "# Av = Iv\n",
    "# (A-I)v = 0\n",
    "I4 = np.diag([1, 1, 1, 1])\n",
    "print(I4)\n",
    "\n",
    "steady_state = np.array([1, 0, 0, 0])\n",
    "for i in range(1000):\n",
    "    steady_state = markov_matrix @ steady_state\n",
    "# steady_state = la.solve((markov_matrix - I4), np.array([0, 0, 0, 0]))\n",
    "# print(steady_state)\n",
    "# print(la.eig(markov_matrix))\n",
    "\n",
    "prob_list = (markov_matrix @ markov_matrix @ markov_matrix @ np.array([1, 0, 0, 0]))"
   ]
  },
  {
   "cell_type": "code",
   "execution_count": null,
   "metadata": {},
   "outputs": [],
   "source": []
  }
 ],
 "metadata": {
  "language_info": {
   "name": "python"
  }
 },
 "nbformat": 4,
 "nbformat_minor": 2
}
