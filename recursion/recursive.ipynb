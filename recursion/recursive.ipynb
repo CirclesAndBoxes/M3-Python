{
 "cells": [
  {
   "cell_type": "code",
   "execution_count": null,
   "metadata": {},
   "outputs": [],
   "source": [
    "Consider a set of $m$ data points $\\{(t_1,y_1),(t_2,y_2), ...,(t_m,y_m)\\}$. Suppose we want to find a straight line that best fits these data points. Mathematically, we want to find the slope and intercept ($x_1$ and $x_2$ respectively) such that\n",
    "\n",
    "$$y_i = x_1 t_i + x_2, \\qquad i \\in \\{1,2,...,m\\} $$"
   ]
  },
  {
   "cell_type": "code",
   "execution_count": null,
   "metadata": {},
   "outputs": [],
   "source": []
  }
 ],
 "metadata": {
  "language_info": {
   "name": "python"
  }
 },
 "nbformat": 4,
 "nbformat_minor": 2
}
